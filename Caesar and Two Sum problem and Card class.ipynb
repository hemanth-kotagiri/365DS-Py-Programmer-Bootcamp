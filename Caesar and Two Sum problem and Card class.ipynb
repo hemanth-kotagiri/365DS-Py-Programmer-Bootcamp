{
 "cells": [
  {
   "cell_type": "markdown",
   "metadata": {},
   "source": [
    "## This are the solutions for Caesar and two sum problems"
   ]
  },
  {
   "cell_type": "code",
   "execution_count": 199,
   "metadata": {},
   "outputs": [],
   "source": [
    "def caesar_cypher(string,val):\n",
    "    if val >=26 or val <=26:\n",
    "        val = val %26\n",
    "\n",
    "    message = ''\n",
    "    string = string.upper()\n",
    "    available = 'ABCDEFGHIJKLMNOPQRSTUVWXYZ'\n",
    "    \n",
    "    for char in string:\n",
    "        if char not in available:\n",
    "            message += char\n",
    "        else:\n",
    "            finder = available.find(char)\n",
    "            \n",
    "            message += available[(finder+ val)%26]\n",
    "    return message.lower()\n",
    "    \n",
    "    if abs(val) > 26:\n",
    "        val = val % 26\n",
    "    elif abs(val) == 26:\n",
    "        return string\n",
    "    if val >= 0:\n",
    "        for ch in string:\n",
    "            if not 65 <= ord(ch) <= 90:\n",
    "                message += ch\n",
    "            elif ord(ch) + val >= ord('Z'):\n",
    "                temp = ord(ch) + val - ord('Z') - 1\n",
    "                message += chr(ord('A') +  temp)\n",
    "            else:\n",
    "                message += chr(ord(ch) + val)\n",
    "    else:\n",
    "        for ch in string:\n",
    "            if not 65 <= ord(ch) <= 90:\n",
    "                message += ch\n",
    "            elif ord(ch) + val < ord('A'):\n",
    "                temp = ord(ch) + val - ord('Z') + 1\n",
    "                message += chr(ord('Z') +  val)\n",
    "            else:\n",
    "                message += chr(ord(ch) + val)\n",
    "    return message.lower()"
   ]
  },
  {
   "cell_type": "code",
   "execution_count": 200,
   "metadata": {},
   "outputs": [],
   "source": [
    "test = \"\"\"On arriving at Washington, we went to dine with the president; and after\n",
    "reposing for twenty-four hours, we set out for Baltimore, where we were\n",
    "invited as members of the Agricultural Society to the annual meeting of\n",
    "the farmers of Maryland. The object of this society is the distribution\n",
    "of rewards and encouragements to all, who in the course of the year have\n",
    "made improvements in agriculture, or the arts of domestic utility. The\n",
    "different products are exhibited, without the names of their owners, and\n",
    "examined by a committee, upon whose report the society awards the\n",
    "prizes. The show appeared to be rich in products of every description. A\n",
    "great number of horses, cows, and sheep, remarkable for their beauty of\n",
    "form, proved how careful the Maryland farmers are in improving their\n",
    "stock. Models of agricultural implements, linen, cotton, canvass and\n",
    "woollen cloths, wines and grain, so arranged, as to be open to public\n",
    "examination, attested the spirit of investigation and improvement which\n",
    "pervades the industrious class of this rich state. General Harper opened\n",
    "the meeting by a very instructive discourse upon the progress and actual\n",
    "condition of agriculture in Maryland, and General Lafayette was charged\n",
    "with the distribution of the premiums. After these were delivered, the\n",
    "farmers were arranged in two lines, and General Lafayette passed between\n",
    "them, shaking hands with every one. We then gaily seated ourselves at\n",
    "table, where numerous toasts were drank, “to the nation’s guest,” “the\n",
    "farmer of La Grange,” &c. To these tributes of respect, the general\n",
    "replied by the following toast: “The seed of American liberty\n",
    "transplanted to other shores, smothered hitherto, but not destroyed by\n",
    "European weeds; may it germinate and grow afresh, more pure and\n",
    "vigorous, and cover the soil of both hemispheres.”\"\"\"\n"
   ]
  },
  {
   "cell_type": "code",
   "execution_count": 202,
   "metadata": {
    "scrolled": false
   },
   "outputs": [
    {
     "name": "stdout",
     "output_type": "stream",
     "text": [
      "on arriving at washington, we went to dine with th\n"
     ]
    }
   ],
   "source": [
    "encrypted = caesar_cypher(test,5)\n",
    "print(caesar_cypher((encrypted)[:50],-5))"
   ]
  },
  {
   "cell_type": "markdown",
   "metadata": {},
   "source": [
    "### Brute force approach : Time = O(n^2), Memory = O(1)"
   ]
  },
  {
   "cell_type": "code",
   "execution_count": 205,
   "metadata": {},
   "outputs": [],
   "source": [
    "def two_sum(nums,target):\n",
    "    for i in range(len(nums)):\n",
    "        for j in range(i+1,len(nums)):\n",
    "            if nums[i] + nums[j] == target:\n",
    "                return [i,j]\n",
    "    return -1"
   ]
  },
  {
   "cell_type": "code",
   "execution_count": 206,
   "metadata": {},
   "outputs": [
    {
     "name": "stdout",
     "output_type": "stream",
     "text": [
      "[2, 3]\n"
     ]
    }
   ],
   "source": [
    "nums = [2,5,3,7,4]\n",
    "target = 10\n",
    "print(two_sum(nums,target))"
   ]
  },
  {
   "cell_type": "markdown",
   "metadata": {},
   "source": [
    "### Optimized using Hashmap : Time = O(n), Memory = O(n)"
   ]
  },
  {
   "cell_type": "code",
   "execution_count": 223,
   "metadata": {},
   "outputs": [],
   "source": [
    "def two_sum_hash(nums,target):\n",
    "    nums_dict = {}\n",
    "    for num in nums:\n",
    "        nums_dict[num] = nums.index(num)\n",
    "    # Checking the counter of each num to be the target\n",
    "    for num in nums_dict.keys():\n",
    "        current = abs(num - target)\n",
    "        if current in nums_dict and current!=num:\n",
    "            return [nums_dict[num],nums_dict[current]]\n",
    "    return -1"
   ]
  },
  {
   "cell_type": "code",
   "execution_count": 224,
   "metadata": {},
   "outputs": [
    {
     "name": "stdout",
     "output_type": "stream",
     "text": [
      "[2, 3]\n"
     ]
    }
   ],
   "source": [
    "nums = [2,5,3,7,4]\n",
    "target = 10\n",
    "print(two_sum_hash(nums,target))"
   ]
  },
  {
   "cell_type": "markdown",
   "metadata": {},
   "source": [
    "## Card class"
   ]
  },
  {
   "cell_type": "code",
   "execution_count": 226,
   "metadata": {},
   "outputs": [],
   "source": [
    "class Card:\n",
    "    def __init__(self,val,suit):\n",
    "        self.val = val\n",
    "        self.suit = suit\n",
    "    \n",
    "    def get_val(self):\n",
    "        return self.val\n",
    "    \n",
    "    def get_suit(self):\n",
    "        return self.suit\n",
    "        \n",
    "    def __str__(self):\n",
    "        return \"The value of the card is: {} and belongs to {} suit.\".format(self.val,self.suit)"
   ]
  },
  {
   "cell_type": "code",
   "execution_count": null,
   "metadata": {},
   "outputs": [],
   "source": []
  },
  {
   "cell_type": "code",
   "execution_count": null,
   "metadata": {},
   "outputs": [],
   "source": []
  },
  {
   "cell_type": "code",
   "execution_count": null,
   "metadata": {},
   "outputs": [],
   "source": []
  },
  {
   "cell_type": "code",
   "execution_count": null,
   "metadata": {},
   "outputs": [],
   "source": []
  },
  {
   "cell_type": "code",
   "execution_count": null,
   "metadata": {},
   "outputs": [],
   "source": []
  },
  {
   "cell_type": "code",
   "execution_count": null,
   "metadata": {},
   "outputs": [],
   "source": []
  },
  {
   "cell_type": "code",
   "execution_count": null,
   "metadata": {},
   "outputs": [],
   "source": []
  },
  {
   "cell_type": "code",
   "execution_count": null,
   "metadata": {},
   "outputs": [],
   "source": []
  }
 ],
 "metadata": {
  "kernelspec": {
   "display_name": "Python 3",
   "language": "python",
   "name": "python3"
  },
  "language_info": {
   "codemirror_mode": {
    "name": "ipython",
    "version": 3
   },
   "file_extension": ".py",
   "mimetype": "text/x-python",
   "name": "python",
   "nbconvert_exporter": "python",
   "pygments_lexer": "ipython3",
   "version": "3.7.6"
  }
 },
 "nbformat": 4,
 "nbformat_minor": 4
}
